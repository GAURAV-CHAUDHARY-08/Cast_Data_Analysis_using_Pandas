{
 "cells": [
  {
   "cell_type": "code",
   "execution_count": 1,
   "id": "c79f9fed",
   "metadata": {},
   "outputs": [
    {
     "data": {
      "text/html": [
       "<div>\n",
       "<style scoped>\n",
       "    .dataframe tbody tr th:only-of-type {\n",
       "        vertical-align: middle;\n",
       "    }\n",
       "\n",
       "    .dataframe tbody tr th {\n",
       "        vertical-align: top;\n",
       "    }\n",
       "\n",
       "    .dataframe thead th {\n",
       "        text-align: right;\n",
       "    }\n",
       "</style>\n",
       "<table border=\"1\" class=\"dataframe\">\n",
       "  <thead>\n",
       "    <tr style=\"text-align: right;\">\n",
       "      <th></th>\n",
       "      <th>title</th>\n",
       "      <th>year</th>\n",
       "      <th>name</th>\n",
       "      <th>type</th>\n",
       "      <th>character</th>\n",
       "      <th>n</th>\n",
       "    </tr>\n",
       "  </thead>\n",
       "  <tbody>\n",
       "    <tr>\n",
       "      <th>0</th>\n",
       "      <td>Suuri illusioni</td>\n",
       "      <td>1985</td>\n",
       "      <td>Homo $</td>\n",
       "      <td>actor</td>\n",
       "      <td>Guests</td>\n",
       "      <td>22.0</td>\n",
       "    </tr>\n",
       "    <tr>\n",
       "      <th>1</th>\n",
       "      <td>Gangsta Rap: The Glockumentary</td>\n",
       "      <td>2007</td>\n",
       "      <td>Too $hort</td>\n",
       "      <td>actor</td>\n",
       "      <td>Himself</td>\n",
       "      <td>NaN</td>\n",
       "    </tr>\n",
       "    <tr>\n",
       "      <th>2</th>\n",
       "      <td>Menace II Society</td>\n",
       "      <td>1993</td>\n",
       "      <td>Too $hort</td>\n",
       "      <td>actor</td>\n",
       "      <td>Lew-Loc</td>\n",
       "      <td>27.0</td>\n",
       "    </tr>\n",
       "    <tr>\n",
       "      <th>3</th>\n",
       "      <td>Porndogs: The Adventures of Sadie</td>\n",
       "      <td>2009</td>\n",
       "      <td>Too $hort</td>\n",
       "      <td>actor</td>\n",
       "      <td>Bosco</td>\n",
       "      <td>3.0</td>\n",
       "    </tr>\n",
       "    <tr>\n",
       "      <th>4</th>\n",
       "      <td>Stop Pepper Palmer</td>\n",
       "      <td>2014</td>\n",
       "      <td>Too $hort</td>\n",
       "      <td>actor</td>\n",
       "      <td>Himself</td>\n",
       "      <td>NaN</td>\n",
       "    </tr>\n",
       "    <tr>\n",
       "      <th>...</th>\n",
       "      <td>...</td>\n",
       "      <td>...</td>\n",
       "      <td>...</td>\n",
       "      <td>...</td>\n",
       "      <td>...</td>\n",
       "      <td>...</td>\n",
       "    </tr>\n",
       "    <tr>\n",
       "      <th>3311642</th>\n",
       "      <td>Stuttur Frakki</td>\n",
       "      <td>1993</td>\n",
       "      <td>Sveinbj?rg ??rhallsd?ttir</td>\n",
       "      <td>actress</td>\n",
       "      <td>Flugfreyja</td>\n",
       "      <td>24.0</td>\n",
       "    </tr>\n",
       "    <tr>\n",
       "      <th>3311643</th>\n",
       "      <td>Foxtrot</td>\n",
       "      <td>1988</td>\n",
       "      <td>Lilja ??risd?ttir</td>\n",
       "      <td>actress</td>\n",
       "      <td>D?ra</td>\n",
       "      <td>24.0</td>\n",
       "    </tr>\n",
       "    <tr>\n",
       "      <th>3311644</th>\n",
       "      <td>Niceland (Population. 1.000.002)</td>\n",
       "      <td>2004</td>\n",
       "      <td>Sigr??ur J?na ??risd?ttir</td>\n",
       "      <td>actress</td>\n",
       "      <td>Woman in Bus</td>\n",
       "      <td>26.0</td>\n",
       "    </tr>\n",
       "    <tr>\n",
       "      <th>3311645</th>\n",
       "      <td>U.S.S.S.S...</td>\n",
       "      <td>2003</td>\n",
       "      <td>Krist?n Andrea ??r?ard?ttir</td>\n",
       "      <td>actress</td>\n",
       "      <td>Afgr.dama ? bens?nst??</td>\n",
       "      <td>17.0</td>\n",
       "    </tr>\n",
       "    <tr>\n",
       "      <th>3311646</th>\n",
       "      <td>Bye Bye Blue Bird</td>\n",
       "      <td>1999</td>\n",
       "      <td>Rosa ? R?gvu</td>\n",
       "      <td>actress</td>\n",
       "      <td>Pensionatv?rtinde</td>\n",
       "      <td>NaN</td>\n",
       "    </tr>\n",
       "  </tbody>\n",
       "</table>\n",
       "<p>3311647 rows × 6 columns</p>\n",
       "</div>"
      ],
      "text/plain": [
       "                                     title  year                         name  \\\n",
       "0                          Suuri illusioni  1985                       Homo $   \n",
       "1           Gangsta Rap: The Glockumentary  2007                    Too $hort   \n",
       "2                        Menace II Society  1993                    Too $hort   \n",
       "3        Porndogs: The Adventures of Sadie  2009                    Too $hort   \n",
       "4                       Stop Pepper Palmer  2014                    Too $hort   \n",
       "...                                    ...   ...                          ...   \n",
       "3311642                     Stuttur Frakki  1993    Sveinbj?rg ??rhallsd?ttir   \n",
       "3311643                            Foxtrot  1988            Lilja ??risd?ttir   \n",
       "3311644   Niceland (Population. 1.000.002)  2004    Sigr??ur J?na ??risd?ttir   \n",
       "3311645                       U.S.S.S.S...  2003  Krist?n Andrea ??r?ard?ttir   \n",
       "3311646                  Bye Bye Blue Bird  1999                 Rosa ? R?gvu   \n",
       "\n",
       "            type               character     n  \n",
       "0          actor                  Guests  22.0  \n",
       "1          actor                 Himself   NaN  \n",
       "2          actor                 Lew-Loc  27.0  \n",
       "3          actor                   Bosco   3.0  \n",
       "4          actor                 Himself   NaN  \n",
       "...          ...                     ...   ...  \n",
       "3311642  actress              Flugfreyja  24.0  \n",
       "3311643  actress                    D?ra  24.0  \n",
       "3311644  actress            Woman in Bus  26.0  \n",
       "3311645  actress  Afgr.dama ? bens?nst??  17.0  \n",
       "3311646  actress       Pensionatv?rtinde   NaN  \n",
       "\n",
       "[3311647 rows x 6 columns]"
      ]
     },
     "execution_count": 1,
     "metadata": {},
     "output_type": "execute_result"
    }
   ],
   "source": [
    "import pandas as pd \n",
    "import matplotlib as plt\n",
    "cast = pd.read_csv(r\"C:\\Users\\gc531\\Downloads\\cast.csv\")\n",
    "cast"
   ]
  },
  {
   "cell_type": "markdown",
   "id": "44db8c5d",
   "metadata": {},
   "source": [
    "# Q1 Using groupby(), plot the number of films that have been released each decade in the history of cinema."
   ]
  },
  {
   "cell_type": "code",
   "execution_count": 2,
   "id": "84285833",
   "metadata": {},
   "outputs": [
    {
     "data": {
      "text/plain": [
       "<AxesSubplot:xlabel='year'>"
      ]
     },
     "execution_count": 2,
     "metadata": {},
     "output_type": "execute_result"
    },
    {
     "data": {
      "image/png": "[encoded data removed]",
      "text/plain": [
       "<Figure size 640x480 with 1 Axes>"
      ]
     },
     "metadata": {},
     "output_type": "display_data"
    }
   ],
   "source": [
    "cast.groupby(cast.year//10*10).title.count().plot.bar()"
   ]
  },
  {
   "cell_type": "markdown",
   "id": "850552a8",
   "metadata": {},
   "source": [
    "# Q2 Use groupby() to plot the number of \"Hamlet\" films made each decade."
   ]
  },
  {
   "cell_type": "code",
   "execution_count": 4,
   "id": "b41450df",
   "metadata": {},
   "outputs": [
    {
     "data": {
      "text/plain": [
       "<AxesSubplot:xlabel='year'>"
      ]
     },
     "execution_count": 4,
     "metadata": {},
     "output_type": "execute_result"
    },
    {
     "data": {
      "image/png": "[encoded data removed]",
      "text/plain": [
       "<Figure size 640x480 with 1 Axes>"
      ]
     },
     "metadata": {},
     "output_type": "display_data"
    }
   ],
   "source": [
    "cast[cast.title == \"Hamlet\"].groupby(cast.year//10*10).title.count().plot.bar()"
   ]
  },
  {
   "cell_type": "markdown",
   "id": "35dc69a3",
   "metadata": {},
   "source": [
    "# Q3 How many leading (n=1) roles were available to actors, and how many to actresses, in each year of the 1950s?"
   ]
  },
  {
   "cell_type": "code",
   "execution_count": 6,
   "id": "40472704",
   "metadata": {},
   "outputs": [
    {
     "data": {
      "text/plain": [
       "year  type   \n",
       "1950  actor      567\n",
       "      actress    268\n",
       "1951  actor      588\n",
       "      actress    263\n",
       "1952  actor      552\n",
       "      actress    280\n",
       "1953  actor      606\n",
       "      actress    284\n",
       "1954  actor      601\n",
       "      actress    292\n",
       "1955  actor      592\n",
       "      actress    258\n",
       "1956  actor      596\n",
       "      actress    282\n",
       "1957  actor      691\n",
       "      actress    275\n",
       "1958  actor      680\n",
       "      actress    269\n",
       "1959  actor      665\n",
       "      actress    280\n",
       "Name: character, dtype: int64"
      ]
     },
     "execution_count": 6,
     "metadata": {},
     "output_type": "execute_result"
    }
   ],
   "source": [
    "cast[(cast.year >= 1950) & (cast.year <= 1959) & (cast.n == 1)].groupby([\"year\",\"type\"]).character.nunique()"
   ]
  },
  {
   "cell_type": "markdown",
   "id": "54a4c3a5",
   "metadata": {},
   "source": [
    "# Q4 In the 1950s decade taken as a whole, how many total roles were available to actors, and how many to actresses, for each \"n\" number 1 through 5?"
   ]
  },
  {
   "cell_type": "code",
   "execution_count": 7,
   "id": "cf0075d2",
   "metadata": {},
   "outputs": [
    {
     "data": {
      "text/plain": [
       "type\n",
       "actor      23438\n",
       "actress    12477\n",
       "Name: character, dtype: int64"
      ]
     },
     "execution_count": 7,
     "metadata": {},
     "output_type": "execute_result"
    }
   ],
   "source": [
    "cast[(cast.year >= 1950) & (cast.year <= 1959) & (cast.n >= 1) & (cast.n <=5)].groupby(\"type\").character.nunique()"
   ]
  },
  {
   "cell_type": "markdown",
   "id": "07dd0fd4",
   "metadata": {},
   "source": [
    "# Q5 Use groupby() to determine how many roles are listed for each of the Pink Panther movies."
   ]
  },
  {
   "cell_type": "code",
   "execution_count": 23,
   "id": "c7543169",
   "metadata": {},
   "outputs": [
    {
     "data": {
      "text/plain": [
       "title\n",
       "Long teng hu yue    1\n",
       "Xin tiao yi bai     1\n",
       "Name: character, dtype: int64"
      ]
     },
     "execution_count": 23,
     "metadata": {},
     "output_type": "execute_result"
    }
   ],
   "source": [
    "cast[cast.character == \"Pink Panther\"].groupby(\"title\").character.count()"
   ]
  },
  {
   "cell_type": "markdown",
   "id": "c5699ecd",
   "metadata": {},
   "source": [
    "# Q6 List, in order by year, each of the films in which Frank Oz has played more than 1 role."
   ]
  },
  {
   "cell_type": "code",
   "execution_count": 6,
   "id": "c42a77fb",
   "metadata": {},
   "outputs": [
    {
     "data": {
      "text/plain": [
       "year  title                                   \n",
       "1979  The Muppet Movie                            8\n",
       "1981  An American Werewolf in London              2\n",
       "      The Great Muppet Caper                      6\n",
       "1982  The Dark Crystal                            2\n",
       "1984  The Muppets Take Manhattan                  7\n",
       "1985  Sesame Street Presents: Follow that Bird    3\n",
       "1992  The Muppet Christmas Carol                  7\n",
       "1996  Muppet Treasure Island                      4\n",
       "1999  Muppets from Space                          4\n",
       "      The Adventures of Elmo in Grouchland        3\n",
       "Name: name, dtype: int64"
      ]
     },
     "execution_count": 6,
     "metadata": {},
     "output_type": "execute_result"
    }
   ],
   "source": [
    "C = cast[cast.name == \"Frank Oz\"].groupby([\"year\",\"title\"]).name.count()\n",
    "C[C>1]"
   ]
  },
  {
   "cell_type": "markdown",
   "id": "af5fae7e",
   "metadata": {},
   "source": [
    "# Q7 List each of the characters that Frank Oz has portrayed at least twice."
   ]
  },
  {
   "cell_type": "code",
   "execution_count": 7,
   "id": "61aa2f82",
   "metadata": {},
   "outputs": [
    {
     "data": {
      "text/plain": [
       "character\n",
       "Animal            6\n",
       "Bert              3\n",
       "Cookie Monster    3\n",
       "Fozzie Bear       4\n",
       "Grover            2\n",
       "Miss Piggy        6\n",
       "Sam the Eagle     5\n",
       "Yoda              5\n",
       "Name: character, dtype: int64"
      ]
     },
     "execution_count": 7,
     "metadata": {},
     "output_type": "execute_result"
    }
   ],
   "source": [
    "A = cast[cast.name == \"Frank Oz\"].groupby(\"character\").character.count()\n",
    "A[A>1]"
   ]
  },
  {
   "cell_type": "code",
   "execution_count": null,
   "id": "fa41f33b",
   "metadata": {},
   "outputs": [],
   "source": []
  }
 ],
 "metadata": {
  "kernelspec": {
   "display_name": "Python 3 (ipykernel)",
   "language": "python",
   "name": "python3"
  },
  "language_info": {
   "codemirror_mode": {
    "name": "ipython",
    "version": 3
   },
   "file_extension": ".py",
   "mimetype": "text/x-python",
   "name": "python",
   "nbconvert_exporter": "python",
   "pygments_lexer": "ipython3",
   "version": "3.10.9"
  },
  "varInspector": {
   "cols": {
    "lenName": 16,
    "lenType": 16,
    "lenVar": 40
   },
   "kernels_config": {
    "python": {
     "delete_cmd_postfix": "",
     "delete_cmd_prefix": "del ",
     "library": "var_list.py",
     "varRefreshCmd": "print(var_dic_list())"
    },
    "r": {
     "delete_cmd_postfix": ") ",
     "delete_cmd_prefix": "rm(",
     "library": "var_list.r",
     "varRefreshCmd": "cat(var_dic_list()) "
    }
   },
   "types_to_exclude": [
    "module",
    "function",
    "builtin_function_or_method",
    "instance",
    "_Feature"
   ],
   "window_display": false
  }
 },
 "nbformat": 4,
 "nbformat_minor": 5
}
